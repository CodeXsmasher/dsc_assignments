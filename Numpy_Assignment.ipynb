{
  "nbformat": 4,
  "nbformat_minor": 0,
  "metadata": {
    "kernelspec": {
      "display_name": "Python 3",
      "language": "python",
      "name": "python3"
    },
    "language_info": {
      "codemirror_mode": {
        "name": "ipython",
        "version": 3
      },
      "file_extension": ".py",
      "mimetype": "text/x-python",
      "name": "python",
      "nbconvert_exporter": "python",
      "pygments_lexer": "ipython3",
      "version": "3.6.9"
    },
    "colab": {
      "name": "Numpy_Assignment.ipynb",
      "provenance": []
    }
  },
  "cells": [
    {
      "cell_type": "markdown",
      "metadata": {
        "id": "1SdFL4JV6GsD"
      },
      "source": [
        "# Numpy assignment\n",
        "- Different tasks will be detailed by comments or text.\n",
        "- For further reference and resources, it's advised to check out the NumPy documentation."
      ]
    },
    {
      "cell_type": "code",
      "metadata": {
        "id": "5MS_MLBo6GsF"
      },
      "source": [
        "# Import NumPy as its abbreviation 'np'\n",
        "import numpy as np"
      ],
      "execution_count": 1,
      "outputs": []
    },
    {
      "cell_type": "code",
      "metadata": {
        "id": "AK3x4ZD26GsM"
      },
      "source": [
        "# Create a 1-dimensional NumPy array using np.array()\n",
        "arr1 = np.array([1,2,3,4,5])\n",
        "\n",
        "# Create a 2-dimensional NumPy array using np.array()\n",
        "arr2 = np.array([[1,2,3],[3,4,5]])"
      ],
      "execution_count": 3,
      "outputs": []
    },
    {
      "cell_type": "code",
      "metadata": {
        "id": "kAJLyzsS6GsS",
        "outputId": "5573a4e0-beba-432c-e053-391844498978",
        "colab": {
          "base_uri": "https://localhost:8080/",
          "height": 93
        }
      },
      "source": [
        "# Attributes of 1-dimensional array (shape, number of dimensions, data type, size and type)\n",
        "print(\"Shape: \",arr1.shape)\n",
        "print(\"number of dimensions: \",arr1.ndim)\n",
        "print(\"data type: \",arr1.dtype)\n",
        "print(\" size: \",arr1. size)"
      ],
      "execution_count": 4,
      "outputs": [
        {
          "output_type": "stream",
          "text": [
            "Shape:  (5,)\n",
            "number of dimensions:  1\n",
            "data type:  int64\n",
            " size:  5\n"
          ],
          "name": "stdout"
        }
      ]
    },
    {
      "cell_type": "code",
      "metadata": {
        "id": "ah61h2qP6GsY",
        "outputId": "f39128d4-ebcd-430f-b019-e3e9109f26b6",
        "colab": {
          "base_uri": "https://localhost:8080/",
          "height": 93
        }
      },
      "source": [
        "# Attributes of 2-dimensional array\n",
        "print(\"Shape: \",arr2.shape)\n",
        "print(\"number of dimensions: \",arr2.ndim)\n",
        "print(\"data type: \",arr2.dtype)\n",
        "print(\" size: \",arr2. size)"
      ],
      "execution_count": 5,
      "outputs": [
        {
          "output_type": "stream",
          "text": [
            "Shape:  (2, 3)\n",
            "number of dimensions:  2\n",
            "data type:  int64\n",
            " size:  6\n"
          ],
          "name": "stdout"
        }
      ]
    },
    {
      "cell_type": "code",
      "metadata": {
        "id": "WsIjpJV26Gsd",
        "outputId": "36e747f0-677d-4e96-f5bd-0754bf14fc25",
        "colab": {
          "base_uri": "https://localhost:8080/",
          "height": 112
        }
      },
      "source": [
        "# Create an array of shape (5, 5) with only ones\n",
        "arr5 = np.ones((5,5), np.int64)\n",
        "arr5"
      ],
      "execution_count": 10,
      "outputs": [
        {
          "output_type": "execute_result",
          "data": {
            "text/plain": [
              "array([[1, 1, 1, 1, 1],\n",
              "       [1, 1, 1, 1, 1],\n",
              "       [1, 1, 1, 1, 1],\n",
              "       [1, 1, 1, 1, 1],\n",
              "       [1, 1, 1, 1, 1]])"
            ]
          },
          "metadata": {
            "tags": []
          },
          "execution_count": 10
        }
      ]
    },
    {
      "cell_type": "code",
      "metadata": {
        "id": "kk0vkYky6Gsj",
        "outputId": "cf74000d-6a6e-45c1-9f88-b00e6e3523d8",
        "colab": {
          "base_uri": "https://localhost:8080/",
          "height": 226
        }
      },
      "source": [
        "# Create an array of shape (3, 3, 5) with only zeros\n",
        "arr6 = np.zeros((3,3,5), np.int64)\n",
        "arr6"
      ],
      "execution_count": 13,
      "outputs": [
        {
          "output_type": "execute_result",
          "data": {
            "text/plain": [
              "array([[[0, 0, 0, 0, 0],\n",
              "        [0, 0, 0, 0, 0],\n",
              "        [0, 0, 0, 0, 0]],\n",
              "\n",
              "       [[0, 0, 0, 0, 0],\n",
              "        [0, 0, 0, 0, 0],\n",
              "        [0, 0, 0, 0, 0]],\n",
              "\n",
              "       [[0, 0, 0, 0, 0],\n",
              "        [0, 0, 0, 0, 0],\n",
              "        [0, 0, 0, 0, 0]]])"
            ]
          },
          "metadata": {
            "tags": []
          },
          "execution_count": 13
        }
      ]
    },
    {
      "cell_type": "code",
      "metadata": {
        "id": "HJYfbYBe6Gsp",
        "outputId": "f7181f4a-3cb9-4e4d-a2f3-a684d1c36fd5",
        "colab": {
          "base_uri": "https://localhost:8080/",
          "height": 150
        }
      },
      "source": [
        "# Create a random array with numbers between 0 and 10 of size (7, 2)\n",
        "arr7 = np.random.randint(0,10,(7,2), np.int64)\n",
        "arr7"
      ],
      "execution_count": 14,
      "outputs": [
        {
          "output_type": "execute_result",
          "data": {
            "text/plain": [
              "array([[4, 7],\n",
              "       [7, 4],\n",
              "       [4, 5],\n",
              "       [9, 1],\n",
              "       [9, 9],\n",
              "       [8, 1],\n",
              "       [5, 6]])"
            ]
          },
          "metadata": {
            "tags": []
          },
          "execution_count": 14
        }
      ]
    },
    {
      "cell_type": "code",
      "metadata": {
        "id": "7tUVNJHE6Gsv",
        "outputId": "1b18bbcc-a396-4c76-c771-24cd6202ac9c",
        "colab": {
          "base_uri": "https://localhost:8080/",
          "height": 74
        }
      },
      "source": [
        "# Create a random array of floats between 0 & 1 of shape (3, 5)\n",
        "arr8 =np.random.rand(3,5)\n",
        "arr8\n"
      ],
      "execution_count": 15,
      "outputs": [
        {
          "output_type": "execute_result",
          "data": {
            "text/plain": [
              "array([[0.73561356, 0.45556709, 0.03952659, 0.41214395, 0.56321247],\n",
              "       [0.48976663, 0.52486393, 0.50293486, 0.3430665 , 0.96118088],\n",
              "       [0.49941558, 0.9272805 , 0.67948533, 0.38857813, 0.55050014]])"
            ]
          },
          "metadata": {
            "tags": []
          },
          "execution_count": 15
        }
      ]
    },
    {
      "cell_type": "code",
      "metadata": {
        "id": "520X6wWh6Gs0",
        "outputId": "504715e8-4730-4aa9-ce2e-ee672e3cb476",
        "colab": {
          "base_uri": "https://localhost:8080/",
          "height": 36
        }
      },
      "source": [
        "# Create an array of normally distributed random numbers\n",
        "arr9 = np.random.randn(4)\n",
        "arr9"
      ],
      "execution_count": 16,
      "outputs": [
        {
          "output_type": "execute_result",
          "data": {
            "text/plain": [
              "array([-0.26339583,  0.62159379,  1.24530361, -0.33729123])"
            ]
          },
          "metadata": {
            "tags": []
          },
          "execution_count": 16
        }
      ]
    },
    {
      "cell_type": "code",
      "metadata": {
        "id": "gc9-onVy6Gs5",
        "outputId": "bafc1d24-9eda-4686-f3ad-fc9db71a583b",
        "colab": {
          "base_uri": "https://localhost:8080/",
          "height": 93
        }
      },
      "source": [
        "# Set the random seed to 42\n",
        "np.random.seed(42)\n",
        "\n",
        "\n",
        "# Create a random array of numbers between 0 & 10 of size (4, 6)\n",
        "arr10 = np.random.randint(0,10,(4,6))\n",
        "arr10"
      ],
      "execution_count": 22,
      "outputs": [
        {
          "output_type": "execute_result",
          "data": {
            "text/plain": [
              "array([[6, 3, 7, 4, 6, 9],\n",
              "       [2, 6, 7, 4, 3, 7],\n",
              "       [7, 2, 5, 4, 1, 7],\n",
              "       [5, 1, 4, 0, 9, 5]])"
            ]
          },
          "metadata": {
            "tags": []
          },
          "execution_count": 22
        }
      ]
    },
    {
      "cell_type": "code",
      "metadata": {
        "id": "PDYMfLq46Gs-",
        "outputId": "63b56508-a5e8-4e67-d350-f9f857b29119",
        "colab": {
          "base_uri": "https://localhost:8080/",
          "height": 93
        }
      },
      "source": [
        "# Copy the code from the cell above and run it again\n",
        "np.random.seed(42)\n",
        "arr10 = np.random.randint(0,10,(4,6))\n",
        "arr10"
      ],
      "execution_count": 23,
      "outputs": [
        {
          "output_type": "execute_result",
          "data": {
            "text/plain": [
              "array([[6, 3, 7, 4, 6, 9],\n",
              "       [2, 6, 7, 4, 3, 7],\n",
              "       [7, 2, 5, 4, 1, 7],\n",
              "       [5, 1, 4, 0, 9, 5]])"
            ]
          },
          "metadata": {
            "tags": []
          },
          "execution_count": 23
        }
      ]
    },
    {
      "cell_type": "code",
      "metadata": {
        "id": "7CChqMpt6GtD",
        "outputId": "004ba406-bf56-4931-dfb2-0a32f4d1e9cd",
        "colab": {
          "base_uri": "https://localhost:8080/",
          "height": 36
        }
      },
      "source": [
        "# Find the 0'th index of the latest array you created\n",
        "print(arr10[0][0])\n"
      ],
      "execution_count": 24,
      "outputs": [
        {
          "output_type": "stream",
          "text": [
            "6\n"
          ],
          "name": "stdout"
        }
      ]
    },
    {
      "cell_type": "code",
      "metadata": {
        "id": "ZGaKrwE06GtI",
        "outputId": "61f902bb-3710-4927-d273-0b015ca975c0",
        "colab": {
          "base_uri": "https://localhost:8080/",
          "height": 55
        }
      },
      "source": [
        "# Get the first 2 rows of latest array you created\n",
        "r1=arr10[0]\n",
        "r2=arr10[1]\n",
        "print(r1, '\\n', r2)"
      ],
      "execution_count": 25,
      "outputs": [
        {
          "output_type": "stream",
          "text": [
            "[6 3 7 4 6 9] \n",
            " [2 6 7 4 3 7]\n"
          ],
          "name": "stdout"
        }
      ]
    },
    {
      "cell_type": "code",
      "metadata": {
        "id": "NqY5Ncsy6GtN",
        "outputId": "9a907387-8f16-437a-c9c5-4b479f34e369",
        "colab": {
          "base_uri": "https://localhost:8080/",
          "height": 55
        }
      },
      "source": [
        "# Get the first 2 values of the first 2 rows of the latest array\n",
        "r1v1 = r1[0]\n",
        "r1v2= r2[0]\n",
        "r2v1 = r2[0]\n",
        "r2v2 = r2[1]\n",
        "print( r1v1, r1v2,'\\n', r2v1, r2v2)"
      ],
      "execution_count": 28,
      "outputs": [
        {
          "output_type": "stream",
          "text": [
            "6 2 \n",
            " 2 6\n"
          ],
          "name": "stdout"
        }
      ]
    },
    {
      "cell_type": "code",
      "metadata": {
        "id": "lT7cEUZy6GtT"
      },
      "source": [
        "# Create a random array of numbers between 0 & 10 and an array of ones both of size (3, 5), save them both to variables\n",
        "ar1 = np.random.randint(0,10,(3,5))\n",
        "ar2 = np.zeros((3,5), np.int64)\n"
      ],
      "execution_count": 32,
      "outputs": []
    },
    {
      "cell_type": "code",
      "metadata": {
        "id": "pSYPl1Qh6GtX"
      },
      "source": [
        "# Add the two arrays together\n",
        "sum = ar1 + ar2"
      ],
      "execution_count": 33,
      "outputs": []
    },
    {
      "cell_type": "code",
      "metadata": {
        "id": "jg4CECzU6Gtc"
      },
      "source": [
        "# Create another array of ones of shape (5, 3)\n",
        "ar3 = np.ones((5,3), np.int64)"
      ],
      "execution_count": 36,
      "outputs": []
    },
    {
      "cell_type": "code",
      "metadata": {
        "id": "P5UNUYei6Gtg",
        "outputId": "f5076d3b-77af-44b3-dcf8-24ebaa42b7dc",
        "colab": {
          "base_uri": "https://localhost:8080/",
          "height": 194
        }
      },
      "source": [
        "# Try add the array of ones and the other most recent array together # You can anticipate an error\n",
        "sum1 = sum + ar3"
      ],
      "execution_count": 37,
      "outputs": [
        {
          "output_type": "error",
          "ename": "ValueError",
          "evalue": "ignored",
          "traceback": [
            "\u001b[0;31m---------------------------------------------------------------------------\u001b[0m",
            "\u001b[0;31mValueError\u001b[0m                                Traceback (most recent call last)",
            "\u001b[0;32m<ipython-input-37-d9dd6c8abf47>\u001b[0m in \u001b[0;36m<module>\u001b[0;34m()\u001b[0m\n\u001b[1;32m      1\u001b[0m \u001b[0;31m# Try add the array of ones and the other most recent array together # You can anticipate an error\u001b[0m\u001b[0;34m\u001b[0m\u001b[0;34m\u001b[0m\u001b[0;34m\u001b[0m\u001b[0m\n\u001b[0;32m----> 2\u001b[0;31m \u001b[0msum1\u001b[0m \u001b[0;34m=\u001b[0m \u001b[0msum\u001b[0m \u001b[0;34m+\u001b[0m \u001b[0mar3\u001b[0m\u001b[0;34m\u001b[0m\u001b[0;34m\u001b[0m\u001b[0m\n\u001b[0m",
            "\u001b[0;31mValueError\u001b[0m: operands could not be broadcast together with shapes (3,5) (5,3) "
          ]
        }
      ]
    },
    {
      "cell_type": "code",
      "metadata": {
        "id": "AnsZYj0B6Gtm",
        "outputId": "7bc1126a-0c7c-454f-8728-0ec863009bd0",
        "colab": {
          "base_uri": "https://localhost:8080/",
          "height": 74
        }
      },
      "source": [
        "# Do the same operation you just did but this time with a transpose on one array\n",
        "sum1 = sum + ar3.T\n",
        "sum1"
      ],
      "execution_count": 40,
      "outputs": [
        {
          "output_type": "execute_result",
          "data": {
            "text/plain": [
              "array([[ 9,  8,  5,  2,  5],\n",
              "       [ 8, 10,  9,  9,  1],\n",
              "       [ 9,  7,  9,  8,  1]])"
            ]
          },
          "metadata": {
            "tags": []
          },
          "execution_count": 40
        }
      ]
    },
    {
      "cell_type": "code",
      "metadata": {
        "id": "_yx56CyO6Gtr",
        "outputId": "69b6ef03-30cf-4ce5-85f1-41e70e80f5f6",
        "colab": {
          "base_uri": "https://localhost:8080/",
          "height": 74
        }
      },
      "source": [
        "# Take the latest array to the power of 2 using the python way\n",
        "sum1**2"
      ],
      "execution_count": 41,
      "outputs": [
        {
          "output_type": "execute_result",
          "data": {
            "text/plain": [
              "array([[ 81,  64,  25,   4,  25],\n",
              "       [ 64, 100,  81,  81,   1],\n",
              "       [ 81,  49,  81,  64,   1]])"
            ]
          },
          "metadata": {
            "tags": []
          },
          "execution_count": 41
        }
      ]
    },
    {
      "cell_type": "code",
      "metadata": {
        "id": "06gqLX9G6Gtv",
        "outputId": "3cc9471c-d57b-458a-9ba8-113920ac14f2",
        "colab": {
          "base_uri": "https://localhost:8080/",
          "height": 74
        }
      },
      "source": [
        "# Do the same thing with numpy way\n",
        "np.power(sum1,2)"
      ],
      "execution_count": 42,
      "outputs": [
        {
          "output_type": "execute_result",
          "data": {
            "text/plain": [
              "array([[ 81,  64,  25,   4,  25],\n",
              "       [ 64, 100,  81,  81,   1],\n",
              "       [ 81,  49,  81,  64,   1]])"
            ]
          },
          "metadata": {
            "tags": []
          },
          "execution_count": 42
        }
      ]
    },
    {
      "cell_type": "code",
      "metadata": {
        "id": "tSc68zgE6Gt0",
        "outputId": "272e9dcb-06cf-4a5c-ce49-a504181d4ac6",
        "colab": {
          "base_uri": "https://localhost:8080/",
          "height": 112
        }
      },
      "source": [
        "# Find the mean, min, max, standard deviation, variance of the latest array using np.mean()\n",
        "print(np.mean(sum1),'\\n',np.max(sum1),'\\n',np.min(sum1),'\\n',np.std(sum1),'\\n',np.var(sum1))"
      ],
      "execution_count": 45,
      "outputs": [
        {
          "output_type": "stream",
          "text": [
            "6.666666666666667 \n",
            " 10 \n",
            " 1 \n",
            " 3.0037014202850156 \n",
            " 9.02222222222222\n"
          ],
          "name": "stdout"
        }
      ]
    },
    {
      "cell_type": "code",
      "metadata": {
        "id": "mwxT10eK6Gt4"
      },
      "source": [
        "# Create two arrays of random integers between 0 to 10 one of size (3, 3) the other of size (3, 2)\n",
        "z1=np.random.randint(0,10,(3,3))\n",
        "z2=np.random.randint(0,10,(3,2))"
      ],
      "execution_count": 46,
      "outputs": []
    },
    {
      "cell_type": "code",
      "metadata": {
        "id": "aW932S9Y6Gt9",
        "outputId": "6c55331b-0308-456e-83aa-46afe8c9cb42",
        "colab": {
          "base_uri": "https://localhost:8080/",
          "height": 74
        }
      },
      "source": [
        "# Perform a dot product on the two newest arrays you created\n",
        "z3=np.dot(z1,z2)\n",
        "z3"
      ],
      "execution_count": 48,
      "outputs": [
        {
          "output_type": "execute_result",
          "data": {
            "text/plain": [
              "array([[138, 114],\n",
              "       [ 75,  72],\n",
              "       [ 42,  44]])"
            ]
          },
          "metadata": {
            "tags": []
          },
          "execution_count": 48
        }
      ]
    },
    {
      "cell_type": "code",
      "metadata": {
        "id": "TlA1MtAW6GuD"
      },
      "source": [
        "# Create two arrays of random integers between 0 to 10 both of size (4, 3)\n",
        "y1 = np.random.randint(0,10,(4,3))\n",
        "y2 = np.random.randint(0,10,(4,3))"
      ],
      "execution_count": 49,
      "outputs": []
    },
    {
      "cell_type": "code",
      "metadata": {
        "id": "01XBtPfJ6GuK",
        "outputId": "82703548-1b73-43e5-dabf-18e024e55ab8",
        "colab": {
          "base_uri": "https://localhost:8080/",
          "height": 87
        }
      },
      "source": [
        "# Perform a hadamard product on the two newest arrays you created\n",
        "y3 = np.multiply(y1,y2)\n",
        "y3"
      ],
      "execution_count": 51,
      "outputs": [
        {
          "output_type": "execute_result",
          "data": {
            "text/plain": [
              "array([[14,  4,  0],\n",
              "       [ 0, 24, 63],\n",
              "       [24, 12, 56],\n",
              "       [45, 18,  0]])"
            ]
          },
          "metadata": {
            "tags": []
          },
          "execution_count": 51
        }
      ]
    },
    {
      "cell_type": "code",
      "metadata": {
        "id": "6GcZGrEc6GuR",
        "outputId": "755e491e-b535-49a0-a720-9ef1d51eace7",
        "colab": {
          "base_uri": "https://localhost:8080/",
          "height": 221
        }
      },
      "source": [
        "# Perform a dot product on the two newest arrays you created # Error anticipated\n",
        "y4=np.dot(y1,y2)"
      ],
      "execution_count": 52,
      "outputs": [
        {
          "output_type": "error",
          "ename": "ValueError",
          "evalue": "ignored",
          "traceback": [
            "\u001b[0;31m---------------------------------------------------------------------------\u001b[0m",
            "\u001b[0;31mValueError\u001b[0m                                Traceback (most recent call last)",
            "\u001b[0;32m<ipython-input-52-59b421ebb7d3>\u001b[0m in \u001b[0;36m<module>\u001b[0;34m()\u001b[0m\n\u001b[1;32m      1\u001b[0m \u001b[0;31m# Perform a dot product on the two newest arrays you created # Error anticipated\u001b[0m\u001b[0;34m\u001b[0m\u001b[0;34m\u001b[0m\u001b[0;34m\u001b[0m\u001b[0m\n\u001b[0;32m----> 2\u001b[0;31m \u001b[0my4\u001b[0m\u001b[0;34m=\u001b[0m\u001b[0mnp\u001b[0m\u001b[0;34m.\u001b[0m\u001b[0mdot\u001b[0m\u001b[0;34m(\u001b[0m\u001b[0my1\u001b[0m\u001b[0;34m,\u001b[0m\u001b[0my2\u001b[0m\u001b[0;34m)\u001b[0m\u001b[0;34m\u001b[0m\u001b[0;34m\u001b[0m\u001b[0m\n\u001b[0m",
            "\u001b[0;32m<__array_function__ internals>\u001b[0m in \u001b[0;36mdot\u001b[0;34m(*args, **kwargs)\u001b[0m\n",
            "\u001b[0;31mValueError\u001b[0m: shapes (4,3) and (4,3) not aligned: 3 (dim 1) != 4 (dim 0)"
          ]
        }
      ]
    },
    {
      "cell_type": "code",
      "metadata": {
        "id": "Z_lQ2oFQ6GuW",
        "outputId": "6a34611e-ff79-4a61-a354-9679bf564792",
        "colab": {
          "base_uri": "https://localhost:8080/",
          "height": 87
        }
      },
      "source": [
        "# Take the latest two arrays, perform a transpose on one of them and then perform a dot product on them both\n",
        "\n",
        "y4=np.dot(y1,y2.T)\n",
        "y4\n"
      ],
      "execution_count": 57,
      "outputs": [
        {
          "output_type": "execute_result",
          "data": {
            "text/plain": [
              "array([[ 18,   4,  48,  72],\n",
              "       [ 50,  87, 128, 122],\n",
              "       [ 30,  71,  92,  68],\n",
              "       [ 18,   8,  42,  63]])"
            ]
          },
          "metadata": {
            "tags": []
          },
          "execution_count": 57
        }
      ]
    },
    {
      "cell_type": "code",
      "metadata": {
        "id": "bKTcvitB6Gua"
      },
      "source": [
        "# Create two arrays of random integers between 0 & 10 of the same shape and save them to variables\n",
        "x1 = np.random.randint(0,10,(3,3))\n",
        "x2 = np.random.randint(0,10,(3,3))"
      ],
      "execution_count": 58,
      "outputs": []
    },
    {
      "cell_type": "code",
      "metadata": {
        "id": "6EfIBrtT6Gue",
        "outputId": "23268657-96d5-4e12-e6fa-e3f48ddddc71",
        "colab": {
          "base_uri": "https://localhost:8080/",
          "height": 70
        }
      },
      "source": [
        "# Compare the two arrays with '>', '<=' and '==' \n",
        "x1>x2\n",
        "x1<=x2\n",
        "x1==x2\n"
      ],
      "execution_count": 59,
      "outputs": [
        {
          "output_type": "execute_result",
          "data": {
            "text/plain": [
              "array([[False, False, False],\n",
              "       [False, False, False],\n",
              "       [False,  True, False]])"
            ]
          },
          "metadata": {
            "tags": []
          },
          "execution_count": 59
        }
      ]
    },
    {
      "cell_type": "code",
      "metadata": {
        "id": "B862mPrL6Guj",
        "outputId": "8611b684-ce8b-4ad9-cbdf-ca9625cebf95",
        "colab": {
          "base_uri": "https://localhost:8080/",
          "height": 70
        }
      },
      "source": [
        "# Sort one of the arrays you just created in ascending order\n",
        "np.sort(x1)"
      ],
      "execution_count": 60,
      "outputs": [
        {
          "output_type": "execute_result",
          "data": {
            "text/plain": [
              "array([[0, 3, 6],\n",
              "       [3, 4, 6],\n",
              "       [3, 6, 6]])"
            ]
          },
          "metadata": {
            "tags": []
          },
          "execution_count": 60
        }
      ]
    },
    {
      "cell_type": "code",
      "metadata": {
        "id": "yICi3Bt76Guo",
        "outputId": "c708464e-96db-438b-bf59-31bea5c43262",
        "colab": {
          "base_uri": "https://localhost:8080/",
          "height": 70
        }
      },
      "source": [
        "# Sort the indexes of one of the arrays you just created\n",
        "np.argsort(x1)"
      ],
      "execution_count": 61,
      "outputs": [
        {
          "output_type": "execute_result",
          "data": {
            "text/plain": [
              "array([[1, 2, 0],\n",
              "       [0, 1, 2],\n",
              "       [1, 0, 2]])"
            ]
          },
          "metadata": {
            "tags": []
          },
          "execution_count": 61
        }
      ]
    },
    {
      "cell_type": "code",
      "metadata": {
        "id": "X8AEuudr6Gur",
        "outputId": "bfdbdccd-ae07-4e8c-e6de-200dc1deb1a9",
        "colab": {
          "base_uri": "https://localhost:8080/",
          "height": 34
        }
      },
      "source": [
        "# Find the index with the maximum value in one of the arrays you've created\n",
        "np.argmax(x1)"
      ],
      "execution_count": 62,
      "outputs": [
        {
          "output_type": "execute_result",
          "data": {
            "text/plain": [
              "0"
            ]
          },
          "metadata": {
            "tags": []
          },
          "execution_count": 62
        }
      ]
    },
    {
      "cell_type": "code",
      "metadata": {
        "id": "Y1fsSjjl6Guv",
        "outputId": "4a1fed5d-baa3-49c3-b722-5029d0242d9a",
        "colab": {
          "base_uri": "https://localhost:8080/",
          "height": 34
        }
      },
      "source": [
        "# Create an array with 10 evenly spaced numbers between 1 and 100\n",
        "np.linspace(1,100,10)"
      ],
      "execution_count": 65,
      "outputs": [
        {
          "output_type": "execute_result",
          "data": {
            "text/plain": [
              "array([  1.,  12.,  23.,  34.,  45.,  56.,  67.,  78.,  89., 100.])"
            ]
          },
          "metadata": {
            "tags": []
          },
          "execution_count": 65
        }
      ]
    },
    {
      "cell_type": "code",
      "metadata": {
        "id": "2kMREQK86Guz",
        "outputId": "59d775d9-35b9-4213-ec10-41cc189a8c1e",
        "colab": {
          "base_uri": "https://localhost:8080/",
          "height": 34
        }
      },
      "source": [
        "# Find the indexes with the maximum values down the verticial axis of one of the arrays you created\n",
        "np.argmax(x1,axis=1)"
      ],
      "execution_count": 66,
      "outputs": [
        {
          "output_type": "execute_result",
          "data": {
            "text/plain": [
              "array([0, 2, 0])"
            ]
          },
          "metadata": {
            "tags": []
          },
          "execution_count": 66
        }
      ]
    },
    {
      "cell_type": "code",
      "metadata": {
        "id": "YljtKe5l6Gu3",
        "outputId": "a1191ea4-4e5a-4a04-bf41-e5785e45d859",
        "colab": {
          "base_uri": "https://localhost:8080/",
          "height": 34
        }
      },
      "source": [
        "# Find the indexes with the minimum values across the horizontal axis of one of the arrays you created\n",
        "np.argmin(x1,axis=0)"
      ],
      "execution_count": 67,
      "outputs": [
        {
          "output_type": "execute_result",
          "data": {
            "text/plain": [
              "array([1, 0, 0])"
            ]
          },
          "metadata": {
            "tags": []
          },
          "execution_count": 67
        }
      ]
    },
    {
      "cell_type": "code",
      "metadata": {
        "id": "kHdDXhFYF_jG"
      },
      "source": [
        ""
      ],
      "execution_count": null,
      "outputs": []
    }
  ]
}