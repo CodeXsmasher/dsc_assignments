{
  "nbformat": 4,
  "nbformat_minor": 0,
  "metadata": {
    "colab": {
      "name": "sock.ipynb",
      "provenance": [],
      "collapsed_sections": []
    },
    "kernelspec": {
      "name": "python3",
      "display_name": "Python 3"
    }
  },
  "cells": [
    {
      "cell_type": "code",
      "metadata": {
        "id": "cSF5FRazw8TD",
        "colab_type": "code",
        "colab": {
          "base_uri": "https://localhost:8080/",
          "height": 74
        },
        "outputId": "55021b92-5b1e-4afa-ab58-78d3e2a7b80e"
      },
      "source": [
        "from collections import Counter\n",
        "def socks(n, ar):\n",
        "  n=input()\n",
        "  ar = input().strip().split()\n",
        "  soc=0\n",
        "  for value in Counter(ar).values():\n",
        "    soc+=value//2\n",
        "    return soc\n",
        "socks(n, ar)\n",
        "\n"
      ],
      "execution_count": null,
      "outputs": [
        {
          "output_type": "stream",
          "text": [
            "3\n",
            "12 13 12\n"
          ],
          "name": "stdout"
        },
        {
          "output_type": "execute_result",
          "data": {
            "text/plain": [
              "1"
            ]
          },
          "metadata": {
            "tags": []
          },
          "execution_count": 25
        }
      ]
    }
  ]
}