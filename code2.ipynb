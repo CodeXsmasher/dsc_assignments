from collections import Counter
def socks(n, ar):
  soc=0
  for value in Counter(ar).values():
    soc+=value//2
    return soc
