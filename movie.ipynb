{
  "nbformat": 4,
  "nbformat_minor": 0,
  "metadata": {
    "colab": {
      "name": "movie.ipynb",
      "provenance": [],
      "collapsed_sections": []
    },
    "kernelspec": {
      "name": "python3",
      "display_name": "Python 3"
    }
  },
  "cells": [
    {
      "cell_type": "code",
      "metadata": {
        "id": "cSF5FRazw8TD",
        "colab_type": "code",
        "colab": {
          "base_uri": "https://localhost:8080/",
          "height": 55
        },
        "outputId": "93b0eda4-2f30-4bb1-9b28-9b57ef7f6cd1"
      },
      "source": [
        "Thriller=[\"Dark\",\"mindhunter\",\"parasite\",\"inception\",\"insidious\",\"kahaani\",\"prison break\",\"money heist\",\"war\",\"Jack Ryan\"]\n",
        "Comedy=[\"Friends\",\"3 idiots\",\"golmaal\",\"Brooklyn 99\",\"How i met your mother\",\"rick and morty\",\"The big bang theory\",\"The office\",\"Space Force\"]\n",
        "film=input()\n",
        "film=film.lower()\n",
        "Thriller=map(str.lower,Thriller)\n",
        "Comedy=map(str.lower,Comedy)\n",
        "if film in Thriller:\n",
        "  print(\"It's a Thriller\")\n",
        "elif film in Comedy:\n",
        "  print(\"It's a Comedy\")\n",
        "else:\n",
        "  print(\"It's neither Comedy nor Thriller\")\n"
      ],
      "execution_count": 26,
      "outputs": [
        {
          "output_type": "stream",
          "text": [
            "DaRk\n",
            "It's a Thriller\n"
          ],
          "name": "stdout"
        }
      ]
    }
  ]
}